{
  "nbformat": 4,
  "nbformat_minor": 0,
  "metadata": {
    "colab": {
      "name": "Unithon.ipynb",
      "provenance": [],
      "collapsed_sections": [],
      "include_colab_link": true
    },
    "kernelspec": {
      "name": "python3",
      "display_name": "Python 3"
    }
  },
  "cells": [
    {
      "cell_type": "markdown",
      "metadata": {
        "id": "view-in-github",
        "colab_type": "text"
      },
      "source": [
        "<a href=\"https://colab.research.google.com/github/ankiankiZhang/Unithon/blob/master/Unithon.ipynb\" target=\"_parent\"><img src=\"https://colab.research.google.com/assets/colab-badge.svg\" alt=\"Open In Colab\"/></a>"
      ]
    },
    {
      "cell_type": "code",
      "metadata": {
        "id": "amvoqLKcPEbD",
        "colab_type": "code",
        "outputId": "b6f9fb57-2e20-4143-80b9-31ab72a38a2b",
        "colab": {
          "base_uri": "https://localhost:8080/",
          "height": 530
        }
      },
      "source": [
        "!pip install spacy\n",
        "!pip install newsapi-python"
      ],
      "execution_count": 7,
      "outputs": [
        {
          "output_type": "stream",
          "text": [
            "Requirement already satisfied: spacy in /usr/local/lib/python3.6/dist-packages (2.2.4)\n",
            "Requirement already satisfied: thinc==7.4.0 in /usr/local/lib/python3.6/dist-packages (from spacy) (7.4.0)\n",
            "Requirement already satisfied: wasabi<1.1.0,>=0.4.0 in /usr/local/lib/python3.6/dist-packages (from spacy) (0.6.0)\n",
            "Requirement already satisfied: srsly<1.1.0,>=1.0.2 in /usr/local/lib/python3.6/dist-packages (from spacy) (1.0.2)\n",
            "Requirement already satisfied: numpy>=1.15.0 in /usr/local/lib/python3.6/dist-packages (from spacy) (1.18.2)\n",
            "Requirement already satisfied: setuptools in /usr/local/lib/python3.6/dist-packages (from spacy) (46.1.3)\n",
            "Requirement already satisfied: requests<3.0.0,>=2.13.0 in /usr/local/lib/python3.6/dist-packages (from spacy) (2.21.0)\n",
            "Requirement already satisfied: cymem<2.1.0,>=2.0.2 in /usr/local/lib/python3.6/dist-packages (from spacy) (2.0.3)\n",
            "Requirement already satisfied: blis<0.5.0,>=0.4.0 in /usr/local/lib/python3.6/dist-packages (from spacy) (0.4.1)\n",
            "Requirement already satisfied: catalogue<1.1.0,>=0.0.7 in /usr/local/lib/python3.6/dist-packages (from spacy) (1.0.0)\n",
            "Requirement already satisfied: plac<1.2.0,>=0.9.6 in /usr/local/lib/python3.6/dist-packages (from spacy) (1.1.3)\n",
            "Requirement already satisfied: murmurhash<1.1.0,>=0.28.0 in /usr/local/lib/python3.6/dist-packages (from spacy) (1.0.2)\n",
            "Requirement already satisfied: tqdm<5.0.0,>=4.38.0 in /usr/local/lib/python3.6/dist-packages (from spacy) (4.38.0)\n",
            "Requirement already satisfied: preshed<3.1.0,>=3.0.2 in /usr/local/lib/python3.6/dist-packages (from spacy) (3.0.2)\n",
            "Requirement already satisfied: chardet<3.1.0,>=3.0.2 in /usr/local/lib/python3.6/dist-packages (from requests<3.0.0,>=2.13.0->spacy) (3.0.4)\n",
            "Requirement already satisfied: certifi>=2017.4.17 in /usr/local/lib/python3.6/dist-packages (from requests<3.0.0,>=2.13.0->spacy) (2020.4.5.1)\n",
            "Requirement already satisfied: urllib3<1.25,>=1.21.1 in /usr/local/lib/python3.6/dist-packages (from requests<3.0.0,>=2.13.0->spacy) (1.24.3)\n",
            "Requirement already satisfied: idna<2.9,>=2.5 in /usr/local/lib/python3.6/dist-packages (from requests<3.0.0,>=2.13.0->spacy) (2.8)\n",
            "Requirement already satisfied: importlib-metadata>=0.20; python_version < \"3.8\" in /usr/local/lib/python3.6/dist-packages (from catalogue<1.1.0,>=0.0.7->spacy) (1.6.0)\n",
            "Requirement already satisfied: zipp>=0.5 in /usr/local/lib/python3.6/dist-packages (from importlib-metadata>=0.20; python_version < \"3.8\"->catalogue<1.1.0,>=0.0.7->spacy) (3.1.0)\n",
            "Collecting newsapi-python\n",
            "  Downloading https://files.pythonhosted.org/packages/de/9e/9050199ac7cbc755d1c49577fdaa5517901124b574264b3602a8b8028440/newsapi_python-0.2.6-py2.py3-none-any.whl\n",
            "Requirement already satisfied: requests<3.0.0 in /usr/local/lib/python3.6/dist-packages (from newsapi-python) (2.21.0)\n",
            "Requirement already satisfied: certifi>=2017.4.17 in /usr/local/lib/python3.6/dist-packages (from requests<3.0.0->newsapi-python) (2020.4.5.1)\n",
            "Requirement already satisfied: idna<2.9,>=2.5 in /usr/local/lib/python3.6/dist-packages (from requests<3.0.0->newsapi-python) (2.8)\n",
            "Requirement already satisfied: urllib3<1.25,>=1.21.1 in /usr/local/lib/python3.6/dist-packages (from requests<3.0.0->newsapi-python) (1.24.3)\n",
            "Requirement already satisfied: chardet<3.1.0,>=3.0.2 in /usr/local/lib/python3.6/dist-packages (from requests<3.0.0->newsapi-python) (3.0.4)\n",
            "Installing collected packages: newsapi-python\n",
            "Successfully installed newsapi-python-0.2.6\n"
          ],
          "name": "stdout"
        }
      ]
    },
    {
      "cell_type": "code",
      "metadata": {
        "id": "Lu0-3dUPYGXa",
        "colab_type": "code",
        "colab": {
          "base_uri": "https://localhost:8080/",
          "height": 428
        },
        "outputId": "1d740e51-7342-4d49-d429-02fb597401e7"
      },
      "source": [
        "!python -m spacy download en_core_web_lg\n"
      ],
      "execution_count": 22,
      "outputs": [
        {
          "output_type": "stream",
          "text": [
            "Requirement already satisfied: en_core_web_lg==2.2.5 from https://github.com/explosion/spacy-models/releases/download/en_core_web_lg-2.2.5/en_core_web_lg-2.2.5.tar.gz#egg=en_core_web_lg==2.2.5 in /usr/local/lib/python3.6/dist-packages (2.2.5)\n",
            "Requirement already satisfied: spacy>=2.2.2 in /usr/local/lib/python3.6/dist-packages (from en_core_web_lg==2.2.5) (2.2.4)\n",
            "Requirement already satisfied: srsly<1.1.0,>=1.0.2 in /usr/local/lib/python3.6/dist-packages (from spacy>=2.2.2->en_core_web_lg==2.2.5) (1.0.2)\n",
            "Requirement already satisfied: catalogue<1.1.0,>=0.0.7 in /usr/local/lib/python3.6/dist-packages (from spacy>=2.2.2->en_core_web_lg==2.2.5) (1.0.0)\n",
            "Requirement already satisfied: plac<1.2.0,>=0.9.6 in /usr/local/lib/python3.6/dist-packages (from spacy>=2.2.2->en_core_web_lg==2.2.5) (1.1.3)\n",
            "Requirement already satisfied: blis<0.5.0,>=0.4.0 in /usr/local/lib/python3.6/dist-packages (from spacy>=2.2.2->en_core_web_lg==2.2.5) (0.4.1)\n",
            "Requirement already satisfied: setuptools in /usr/local/lib/python3.6/dist-packages (from spacy>=2.2.2->en_core_web_lg==2.2.5) (46.1.3)\n",
            "Requirement already satisfied: cymem<2.1.0,>=2.0.2 in /usr/local/lib/python3.6/dist-packages (from spacy>=2.2.2->en_core_web_lg==2.2.5) (2.0.3)\n",
            "Requirement already satisfied: numpy>=1.15.0 in /usr/local/lib/python3.6/dist-packages (from spacy>=2.2.2->en_core_web_lg==2.2.5) (1.18.2)\n",
            "Requirement already satisfied: preshed<3.1.0,>=3.0.2 in /usr/local/lib/python3.6/dist-packages (from spacy>=2.2.2->en_core_web_lg==2.2.5) (3.0.2)\n",
            "Requirement already satisfied: tqdm<5.0.0,>=4.38.0 in /usr/local/lib/python3.6/dist-packages (from spacy>=2.2.2->en_core_web_lg==2.2.5) (4.38.0)\n",
            "Requirement already satisfied: murmurhash<1.1.0,>=0.28.0 in /usr/local/lib/python3.6/dist-packages (from spacy>=2.2.2->en_core_web_lg==2.2.5) (1.0.2)\n",
            "Requirement already satisfied: thinc==7.4.0 in /usr/local/lib/python3.6/dist-packages (from spacy>=2.2.2->en_core_web_lg==2.2.5) (7.4.0)\n",
            "Requirement already satisfied: wasabi<1.1.0,>=0.4.0 in /usr/local/lib/python3.6/dist-packages (from spacy>=2.2.2->en_core_web_lg==2.2.5) (0.6.0)\n",
            "Requirement already satisfied: requests<3.0.0,>=2.13.0 in /usr/local/lib/python3.6/dist-packages (from spacy>=2.2.2->en_core_web_lg==2.2.5) (2.21.0)\n",
            "Requirement already satisfied: importlib-metadata>=0.20; python_version < \"3.8\" in /usr/local/lib/python3.6/dist-packages (from catalogue<1.1.0,>=0.0.7->spacy>=2.2.2->en_core_web_lg==2.2.5) (1.6.0)\n",
            "Requirement already satisfied: certifi>=2017.4.17 in /usr/local/lib/python3.6/dist-packages (from requests<3.0.0,>=2.13.0->spacy>=2.2.2->en_core_web_lg==2.2.5) (2020.4.5.1)\n",
            "Requirement already satisfied: idna<2.9,>=2.5 in /usr/local/lib/python3.6/dist-packages (from requests<3.0.0,>=2.13.0->spacy>=2.2.2->en_core_web_lg==2.2.5) (2.8)\n",
            "Requirement already satisfied: chardet<3.1.0,>=3.0.2 in /usr/local/lib/python3.6/dist-packages (from requests<3.0.0,>=2.13.0->spacy>=2.2.2->en_core_web_lg==2.2.5) (3.0.4)\n",
            "Requirement already satisfied: urllib3<1.25,>=1.21.1 in /usr/local/lib/python3.6/dist-packages (from requests<3.0.0,>=2.13.0->spacy>=2.2.2->en_core_web_lg==2.2.5) (1.24.3)\n",
            "Requirement already satisfied: zipp>=0.5 in /usr/local/lib/python3.6/dist-packages (from importlib-metadata>=0.20; python_version < \"3.8\"->catalogue<1.1.0,>=0.0.7->spacy>=2.2.2->en_core_web_lg==2.2.5) (3.1.0)\n",
            "\u001b[38;5;2m✔ Download and installation successful\u001b[0m\n",
            "You can now load the model via spacy.load('en_core_web_lg')\n"
          ],
          "name": "stdout"
        }
      ]
    },
    {
      "cell_type": "code",
      "metadata": {
        "id": "uBKSSrf6RdeG",
        "colab_type": "code",
        "colab": {}
      },
      "source": [
        "from newsapi import NewsApiClient\n",
        "import pandas as pd\n",
        "import numpy as np\n",
        "\n",
        "#import pickle\n",
        "#import spacy\n",
        "#spacy.load('en_core_web_lg')"
      ],
      "execution_count": 0,
      "outputs": []
    },
    {
      "cell_type": "code",
      "metadata": {
        "id": "C8aFcSA1Q6ss",
        "colab_type": "code",
        "colab": {
          "base_uri": "https://localhost:8080/",
          "height": 164
        },
        "outputId": "f4e658f5-42f7-482a-e029-18bfd8daa732"
      },
      "source": [
        "nlp_eng = en_core_web_lg.load()"
      ],
      "execution_count": 19,
      "outputs": [
        {
          "output_type": "error",
          "ename": "NameError",
          "evalue": "ignored",
          "traceback": [
            "\u001b[0;31m---------------------------------------------------------------------------\u001b[0m",
            "\u001b[0;31mNameError\u001b[0m                                 Traceback (most recent call last)",
            "\u001b[0;32m<ipython-input-19-75e30bc6ea49>\u001b[0m in \u001b[0;36m<module>\u001b[0;34m()\u001b[0m\n\u001b[0;32m----> 1\u001b[0;31m \u001b[0mnlp_eng\u001b[0m \u001b[0;34m=\u001b[0m \u001b[0men_core_web_lg\u001b[0m\u001b[0;34m.\u001b[0m\u001b[0mload\u001b[0m\u001b[0;34m(\u001b[0m\u001b[0;34m)\u001b[0m\u001b[0;34m\u001b[0m\u001b[0;34m\u001b[0m\u001b[0m\n\u001b[0m",
            "\u001b[0;31mNameError\u001b[0m: name 'en_core_web_lg' is not defined"
          ]
        }
      ]
    },
    {
      "cell_type": "code",
      "metadata": {
        "id": "EtV-atFGPsSJ",
        "colab_type": "code",
        "colab": {}
      },
      "source": [
        "newsapi = NewsApiClient(api_key='ea370bd108064122b8d0eb309c6c85bd') \n",
        "def get_past_articles(past=30): \n",
        "    past_articles = dict() \n",
        "    for past_days in range(1, past): \n",
        "        from_day = str(datetime.now() - timedelta(days.past_days)) \n",
        "        to_day = str(datetime.now() - timedelta(days.past_days - 1)) \n",
        "        past_articles.update({from_day:to_day}) \n",
        "    return past_articles \n",
        "def get_artictes(query, past=30): \n",
        "    past_articles = get_past_articles(past) \n",
        "    all_articles = [] \n",
        "    for i,j in tqdm(past_articles.items()): \n",
        "        for pag in tqdm(range(1,6)): \n",
        "            pag_articles = newsapi.get_everything(q.query, language='en', from_param=i, to=j, sort_by='relevancy', page=pag)['articles'] \n",
        "            if len(pag_articles) == 0: break \n",
        "            all_articles.extend(pag_articles) \n",
        "    return all_articles\n"
      ],
      "execution_count": 0,
      "outputs": []
    },
    {
      "cell_type": "code",
      "metadata": {
        "id": "jqUioxilXjlz",
        "colab_type": "code",
        "colab": {}
      },
      "source": [
        "temp = newsapi.get_everything(q='New York', language='en', from_param='2020-03-21', to='2020-04-20', sort_by='relevancy', page=2)"
      ],
      "execution_count": 0,
      "outputs": []
    },
    {
      "cell_type": "code",
      "metadata": {
        "id": "ECJ3_SGUV4by",
        "colab_type": "code",
        "colab": {}
      },
      "source": [
        "filename = 'articlesCOVID.pckl'\n",
        "pickle.dump(temp, open(filename, 'wb'))\n",
        "filename = 'articlesCOVID.pckl'\n",
        "loaded_model = pickle.load(open(filename, 'rb'))\n",
        "filepath = 'articlesCOVID.pckl'\n",
        "pickle.dump(loaded_model, open(filepath, 'wb'))"
      ],
      "execution_count": 0,
      "outputs": []
    },
    {
      "cell_type": "code",
      "metadata": {
        "id": "dwHt5vrfPsbw",
        "colab_type": "code",
        "colab": {
          "base_uri": "https://localhost:8080/",
          "height": 54
        },
        "outputId": "f0a8919d-c469-461f-d62e-1c97a5d84d2a"
      },
      "source": [
        "articles = pd.read_pickle(filepath) \n",
        "print(articles)\n"
      ],
      "execution_count": 38,
      "outputs": [
        {
          "output_type": "stream",
          "text": [
            "{'status': 'ok', 'totalResults': 120860, 'articles': [{'source': {'id': 'cnn', 'name': 'CNN'}, 'author': 'Opinion by Kent Sepkowitz', 'title': 'Why New York has been hit so hard by coronavirus', 'description': 'New York state reached a tragic milestone this week: It now has more Covid-19 patients than any country in the world, aside from the United States.', 'url': 'https://www.cnn.com/2020/04/11/opinions/new-york-hit-hard-coronavirus-sepkowitz/index.html', 'urlToImage': 'https://cdn.cnn.com/cnnnext/dam/assets/200411150812-kent-sepkowitz-op-ed-super-tease.jpg', 'publishedAt': '2020-04-12T00:16:30Z', 'content': 'Kent Sepkowitz is a CNN medical analyst and a physician and infection control expert at Memorial Sloan Kettering Cancer Center in New York City. The views expressed in this commentary are his own. View more opinion at CNN.\\r\\n (CNN)New York state reached a trag… [+6344 chars]'}, {'source': {'id': 'cnn', 'name': 'CNN'}, 'author': None, 'title': \"Empty streets the new normal in New York City. See what it's like now\", 'description': \"What is it like to live in NYC now? CNN's Jeanne Moos delivers postcards from New York.\", 'url': 'https://www.cnn.com/videos/us/2020/03/25/postcards-from-new-york-moos-ebof-pkg.cnn', 'urlToImage': 'https://cdn.cnn.com/cnnnext/dam/assets/200325200801-postcards-from-new-york-moos-pkg-super-tease.jpg', 'publishedAt': '2020-03-26T00:36:45Z', 'content': \"Chat with us in Facebook Messenger. Find out what's happening in the world as it unfolds.\"}, {'source': {'id': 'cnn', 'name': 'CNN'}, 'author': 'Eric Levenson, CNN', 'title': '74,000 cases: Why New York is the US epicenter', 'description': 'There were over 74,000 cases of coronavirus in the United States as of Thursday midday. About half were in New York -- almost 10 times more than any other state.', 'url': 'https://www.cnn.com/2020/03/26/us/new-york-coronavirus-explainer/index.html', 'urlToImage': 'https://cdn.cnn.com/cnnnext/dam/assets/200326033413-elmhurst-hospital-new-york-13-deaths-super-tease.jpg', 'publishedAt': '2020-03-26T18:01:30Z', 'content': '(CNN)There were over 74,000 cases of coronavirus in the United States as of Thursday midday. About half were in New York -- almost 10 times more than any other state.\\r\\nWhy has the outbreak hit New York so much harder than other places?\\r\\nHealth experts said th… [+7316 chars]'}, {'source': {'id': 'cnn', 'name': 'CNN'}, 'author': 'Jill Martin and Amir Vera, CNN', 'title': 'Owner of New York Knicks and Rangers tests positive for coronavirus', 'description': \"James Dolan, owner of the NBA's New York Knicks and the NHL's New York Rangers, has tested positive for coronavirus, according to the Knicks PR Twitter account.\", 'url': 'https://www.cnn.com/2020/03/28/us/ny-knicks-rangers-owner-coronavirus/index.html', 'urlToImage': 'https://cdn.cnn.com/cnnnext/dam/assets/200328230551-james-dolan-file-super-tease.jpg', 'publishedAt': '2020-03-29T03:24:19Z', 'content': '(CNN)James Dolan, owner of the NBA\\'s New York Knicks and the NHL\\'s New York Rangers, has tested positive for coronavirus, according to the Knicks PR Twitter account.\\r\\n\"He has been in self-isolation and is experiencing little to no symptoms. He continues to ov… [+457 chars]'}, {'source': {'id': 'cnn', 'name': 'CNN'}, 'author': None, 'title': \"Andrew Cuomo to Chris: You're the meatball of the family\", 'description': \"CNN's Chris Cuomo and his brother New York Gov. Andrew Cuomo took turns poking fun of each other after a discussion about the coronavirus efforts in New York.\", 'url': 'https://www.cnn.com/videos/us/2020/03/31/chris-cuomo-andrew-cuomo-cooking-moms-tomato-sauce-sot-cpt-vpx.cnn', 'urlToImage': 'https://cdn.cnn.com/cnnnext/dam/assets/200330231253-chris-cuomo-andrew-cuomo-march-30-2020-01-super-tease.jpg', 'publishedAt': '2020-03-31T03:28:07Z', 'content': \"Chat with us in Facebook Messenger. Find out what's happening in the world as it unfolds.\"}, {'source': {'id': 'cnn', 'name': 'CNN'}, 'author': None, 'title': \"Cuomo to Trump: How many times do you want me to say 'thank you'?\", 'description': \"New York Gov. Andrew Cuomo says he's thanked President Trump enough for federal efforts but will still need more assistance in reopening the state of New York.\", 'url': 'https://www.cnn.com/videos/politics/2020/04/17/cuomo-federal-help-trump-job-vpx.cnn', 'urlToImage': 'https://cdn.cnn.com/cnnnext/dam/assets/200417152314-cuomo-thank-you-super-tease.jpg', 'publishedAt': '2020-04-17T19:37:27Z', 'content': \"Chat with us in Facebook Messenger. Find out what's happening in the world as it unfolds.\"}, {'source': {'id': 'cnn', 'name': 'CNN'}, 'author': None, 'title': 'Cuomo: Possible NY quarantine would be chaos and mayhem', 'description': 'New York Gov. Andrew Cuomo responds to President Donald Trump considering a short-term quarantine of coronavirus \"hot spots,\" including New York.', 'url': 'https://www.cnn.com/videos/politics/2020/03/28/trump-suggests-quarantine-andrew-cuomo-new-york-nr-sot-vpx.cnn', 'urlToImage': 'https://cdn.cnn.com/cnnnext/dam/assets/200328173615-gov-andrew-cuomo-march-28-super-tease.jpg', 'publishedAt': '2020-03-28T22:14:45Z', 'content': \"Chat with us in Facebook Messenger. Find out what's happening in the world as it unfolds.\"}, {'source': {'id': 'cnn', 'name': 'CNN'}, 'author': None, 'title': \"NY governor says he faces criticism for being 'too prepared'\", 'description': 'CNN\\'s Chris Cuomo pushed back at New York Governor Andrew Cuomo when he claimed that some might say New York was \"too prepared\" for the coronavirus pandemic.', 'url': 'https://www.cnn.com/videos/politics/2020/04/09/andrew-cuomo-new-york-prepared-coronavirus-cpt-intv-vpx.cnn', 'urlToImage': 'https://cdn.cnn.com/cnnnext/dam/assets/200409003928-andrew-chris-split-cuomo-super-tease.jpg', 'publishedAt': '2020-04-09T05:45:05Z', 'content': \"Chat with us in Facebook Messenger. Find out what's happening in the world as it unfolds.\"}, {'source': {'id': 'techcrunch', 'name': 'TechCrunch'}, 'author': 'Lucas Matney', 'title': 'Notion hits $2 billion valuation in new raise', 'description': 'Notion, a startup that operates a workplace productivity platform, has raised $50 million from Index Ventures and other investors at a $2 billion valuation, the company told The New York Times. A Notion spokesperson confirmed the raise and valuation to TechCr…', 'url': 'http://techcrunch.com/2020/04/01/notion-hits-2-billion-valuation-in-new-raise/', 'urlToImage': 'https://techcrunch.com/wp-content/uploads/2020/04/notion-front-page-hero.png?w=559', 'publishedAt': '2020-04-01T20:33:00Z', 'content': 'Notion, a startup that operates a workplace productivity platform, has raised $50 million from Index Ventures and other investors at a $2 billion valuation, the company told The New York Times.\\r\\nA Notion spokesperson confirmed the raise and valuation to TechC… [+1338 chars]'}, {'source': {'id': 'bbc-news', 'name': 'BBC News'}, 'author': 'https://www.facebook.com/bbcnews', 'title': 'Coronavirus: New York reports highest single-day virus death toll', 'description': 'Governor Cuomo reports a climbing deaths as the state faces questions over Rikers prison death.', 'url': 'https://www.bbc.co.uk/news/world-us-canada-52205118', 'urlToImage': 'https://ichef.bbci.co.uk/news/1024/branded_news/3DFC/production/_111686851_gettyimages-1208728765.jpg', 'publishedAt': '2020-04-07T16:39:54Z', 'content': \"Image copyrightGetty ImagesImage caption\\r\\n Governor Cuomo faced questions over New York's response to the vulnerable prison population\\r\\nScrutiny over New York's Covid-19 response has deepened after Governor Andrew Cuomo announced that the state recorded its h… [+3075 chars]\"}, {'source': {'id': 'bbc-news', 'name': 'BBC News'}, 'author': 'https://www.facebook.com/bbcnews', 'title': 'Coronavirus: New York has more cases than any country', 'description': 'Photos emerge of workers in hazmat outfits stacking coffins in a mass grave in New York City.', 'url': 'https://www.bbc.co.uk/news/world-us-canada-52239261', 'urlToImage': 'https://ichef.bbci.co.uk/news/1024/branded_news/1B20/production/_111744960_hi061004818.jpg', 'publishedAt': '2020-04-10T03:29:17Z', 'content': \"Image copyrightReutersImage caption\\r\\n Mourners attend a funeral in Brooklyn, New York, as the city's coronavirus death toll hit a record high for a third day\\r\\nNew York state now has more coronavirus cases than any other country outside the US, according to la… [+5694 chars]\"}, {'source': {'id': 'bbc-news', 'name': 'BBC News'}, 'author': 'https://www.facebook.com/bbcnews', 'title': 'Coronavirus: Trump backs away from New York quarantine', 'description': 'The US president now says the move is not necessary, after the idea was labelled \"preposterous\".', 'url': 'https://www.bbc.co.uk/news/world-us-canada-52080119', 'urlToImage': 'https://ichef.bbci.co.uk/images/ic/1024x576/p0881c81.jpg', 'publishedAt': '2020-03-29T02:00:05Z', 'content': 'Media captionDonald Trump tells reporters he is \"considering quarantine\" for some areas\\r\\nUS President Donald Trump has said quarantining New York \"will not be necessary\", after the state\\'s governor said doing so would be \"preposterous\".\\r\\nMr Trump said the lat… [+5123 chars]'}, {'source': {'id': 'bbc-news', 'name': 'BBC News'}, 'author': 'https://www.facebook.com/bbcnews', 'title': 'Coronavirus: Tesla donates hundreds of ventilators to New York', 'description': 'New York has the highest number of coronavirus cases in the US and a shortage of ventilators.', 'url': 'https://www.bbc.co.uk/news/technology-52071314', 'urlToImage': 'https://ichef.bbci.co.uk/news/1024/branded_news/16415/production/_110775119_gettyimages-1192349155.jpg', 'publishedAt': '2020-03-27T19:20:50Z', 'content': 'Image copyrightGetty ImagesImage caption\\r\\n The boss of electric car maker Tesla said his company will donate ventilators to New York.\\r\\nElon Musk has promised to provide New York with hundreds of ventilators to help meet demand from the growing coronavirus out… [+2175 chars]'}, {'source': {'id': 'cnn', 'name': 'CNN'}, 'author': 'Madeline Holcombe, CNN', 'title': 'The advisory for New York, New Jersey and Connecticut comes as US coronavirus deaths surpass 2,000', 'description': 'The United States is advising residents of New York, New Jersey and Connecticut not to travel domestically after the number of reported coronavirus deaths doubled to over 2,000 nationwide within two days.', 'url': 'https://www.cnn.com/2020/03/29/health/us-coronavirus-wrap-sunday/index.html', 'urlToImage': 'https://cdn.cnn.com/cnnnext/dam/assets/200329010716-new-york-travel-advisory-super-tease.jpg', 'publishedAt': '2020-03-29T07:39:12Z', 'content': '(CNN)The United States is advising residents of New York, New Jersey and Connecticut not to travel domestically after the number of reported coronavirus deaths doubled to over 2,000 nationwide within two days.\\r\\nIt took about a month from the first report of a… [+4185 chars]'}, {'source': {'id': 'wired', 'name': 'Wired'}, 'author': 'Kate Knibbs', 'title': 'The Real Reason Veterinarians Gave a Tiger a Covid-19 Test', 'description': 'It’s hard for humans in New York City to get a test for the coronavirus. So when a Bronx Zoo tiger tested positive for Covid-19, it invited some questions.', 'url': 'https://www.wired.com/story/tiger-coronavirus-bronx-zoo/', 'urlToImage': 'https://media.wired.com/photos/5e8f7e57798a15000821fec1/191:100/w_1280,c_limit/Science_bronxtiger_893408608.jpg', 'publishedAt': '2020-04-12T11:00:00Z', 'content': 'Nadia had a cough. A dry cough, to be specific, and it wasnt just her. The 4-year-old Malayan tiger lives in an exhibit in the Bronx Zoo with her sister, Azul, who had also started coughing at the end of March. Altogether, seven of the zoos big cats appeared … [+5702 chars]'}, {'source': {'id': 'cnn', 'name': 'CNN'}, 'author': 'Veronica Stracqualursi, CNN', 'title': 'New York state is sending one million masks to NYC, Gov. Cuomo says', 'description': 'Gov. Andrew Cuomo said during a news conference Saturday that New York is sending one million N95 respirator masks to New York City as Covid-19 confirmed cases have surpassed 10,300 across the state.', 'url': 'https://www.cnn.com/2020/03/21/politics/new-york-andrew-cuomo-coronavirus-spread/index.html', 'urlToImage': 'https://cdn.cnn.com/cnnnext/dam/assets/200320161911-andrew-cuomo-briefing-3-20-super-tease.jpg', 'publishedAt': '2020-03-21T15:49:44Z', 'content': None}, {'source': {'id': 'cnn', 'name': 'CNN'}, 'author': None, 'title': 'Gov. Cuomo takes shot at brother: One day you can grow up to be like me', 'description': \"CNN's Chris Cuomo and his brother, New York Governor Andrew Cuomo, take playful shots at each other at the end of a discussion on the effort in New York state to combat the coronavirus.\", 'url': 'https://www.cnn.com/videos/tv/2020/03/24/chris-cuomo-andrew-cuomo-better-than-you-basketball-sot-cpt-vpx.cnn', 'urlToImage': 'https://cdn.cnn.com/cnnnext/dam/assets/200324054229-chris-cuomo-andrew-cuomo-march-23-2020-01-super-tease.jpg', 'publishedAt': '2020-03-24T10:57:35Z', 'content': \"Chat with us in Facebook Messenger. Find out what's happening in the world as it unfolds.\"}, {'source': {'id': None, 'name': 'Youtube.com'}, 'author': None, 'title': 'Social Distance Wedding Ceremony in New York City Despite Coronavirus | NBC New York - NBC New York', 'description': 'Social Distance Wedding Ceremony in New York City Despite Coronavirus | NBC New York NBC New York View Full coverage on Google News', 'url': 'https://www.youtube.com/watch?v=dl2hifVanQg', 'urlToImage': 'https://i.ytimg.com/vi/dl2hifVanQg/hqdefault.jpg', 'publishedAt': '2020-03-21T23:30:13Z', 'content': None}, {'source': {'id': None, 'name': 'Gizmodo.com'}, 'author': 'Jody Serrano', 'title': 'Say ‘I Do’ on Zoom: New York Governor Allows People to Obtain Marriage Licenses Remotely', 'description': 'The coronavirus pandemic has undoubtedly upended our normal lives and wreaked tragedy across the U.S. However, this doesn’t mean we can’t still live and celebrate important moments. In New York, people staying at home can add one more thing to the list of thi…', 'url': 'https://gizmodo.com/say-i-do-on-zoom-new-york-governor-allows-people-to-1842950884', 'urlToImage': 'https://i.kinja-img.com/gawker-media/image/upload/c_fill,f_auto,fl_progressive,g_center,h_675,pg_1,q_80,w_1200/amtw6rdag7y9isojetgv.jpg', 'publishedAt': '2020-04-20T00:06:00Z', 'content': 'The coronavirus pandemic has undoubtedly upended our normal lives and wreaked tragedy across the U.S.However, this doesnt mean we cant still live and celebrate important moments. In New York, people staying at home can add one more thing to the list of things… [+2067 chars]'}, {'source': {'id': 'cnn', 'name': 'CNN'}, 'author': None, 'title': 'Cuomo: Quarantine would be declaration of war on states', 'description': 'New York Gov. Andrew Cuomo reacts to President Donald Trump floating the idea of a temporary quarantine for New York, New Jersey and Connecticut. Trump later said a quarantine was not necessary, and instructed the Centers for Disease Control and Prevention to…', 'url': 'https://www.cnn.com/videos/politics/2020/03/29/cuomo-trump-ny-quarantine-war-on-states-nr-sot-vpx.cnn', 'urlToImage': 'https://cdn.cnn.com/cnnnext/dam/assets/200328213639-gov-andrew-cuomo-nr-intv-03-28-2020-1-super-tease.jpg', 'publishedAt': '2020-03-29T02:15:48Z', 'content': \"Chat with us in Facebook Messenger. Find out what's happening in the world as it unfolds.\"}]}\n"
          ],
          "name": "stdout"
        }
      ]
    },
    {
      "cell_type": "code",
      "metadata": {
        "id": "_3z-U8c-dwKD",
        "colab_type": "code",
        "colab": {
          "base_uri": "https://localhost:8080/",
          "height": 232
        },
        "outputId": "8070b4c4-6fe3-4837-d7d3-4cee8a045401"
      },
      "source": [
        "for i, article in enumerate(articles):\n",
        "    for e in article['articles']:\n",
        "        title = e['title']\n",
        "        description = e['description']\n",
        "        content = e['content']\n",
        "        dados.append({'title':titles[0], 'date':dates[0], 'desc':descriptions[0], 'content':content})\n",
        "df = pd.DataFrame(dados)\n",
        "df = df.dropna()\n",
        "df.head()"
      ],
      "execution_count": 39,
      "outputs": [
        {
          "output_type": "error",
          "ename": "TypeError",
          "evalue": "ignored",
          "traceback": [
            "\u001b[0;31m---------------------------------------------------------------------------\u001b[0m",
            "\u001b[0;31mTypeError\u001b[0m                                 Traceback (most recent call last)",
            "\u001b[0;32m<ipython-input-39-a0925a3175c5>\u001b[0m in \u001b[0;36m<module>\u001b[0;34m()\u001b[0m\n\u001b[1;32m      1\u001b[0m \u001b[0;32mfor\u001b[0m \u001b[0mi\u001b[0m\u001b[0;34m,\u001b[0m \u001b[0marticle\u001b[0m \u001b[0;32min\u001b[0m \u001b[0menumerate\u001b[0m\u001b[0;34m(\u001b[0m\u001b[0marticles\u001b[0m\u001b[0;34m)\u001b[0m\u001b[0;34m:\u001b[0m\u001b[0;34m\u001b[0m\u001b[0;34m\u001b[0m\u001b[0m\n\u001b[0;32m----> 2\u001b[0;31m     \u001b[0;32mfor\u001b[0m \u001b[0mx\u001b[0m \u001b[0;32min\u001b[0m \u001b[0marticle\u001b[0m\u001b[0;34m[\u001b[0m\u001b[0;34m'articles'\u001b[0m\u001b[0;34m]\u001b[0m\u001b[0;34m:\u001b[0m\u001b[0;34m\u001b[0m\u001b[0;34m\u001b[0m\u001b[0m\n\u001b[0m\u001b[1;32m      3\u001b[0m         \u001b[0mtitle\u001b[0m \u001b[0;34m=\u001b[0m \u001b[0mx\u001b[0m\u001b[0;34m[\u001b[0m\u001b[0;34m'title'\u001b[0m\u001b[0;34m]\u001b[0m\u001b[0;34m\u001b[0m\u001b[0;34m\u001b[0m\u001b[0m\n\u001b[1;32m      4\u001b[0m         \u001b[0mdescription\u001b[0m \u001b[0;34m=\u001b[0m \u001b[0mx\u001b[0m\u001b[0;34m[\u001b[0m\u001b[0;34m'description'\u001b[0m\u001b[0;34m]\u001b[0m\u001b[0;34m\u001b[0m\u001b[0;34m\u001b[0m\u001b[0m\n\u001b[1;32m      5\u001b[0m         \u001b[0mcontent\u001b[0m \u001b[0;34m=\u001b[0m \u001b[0mx\u001b[0m\u001b[0;34m[\u001b[0m\u001b[0;34m'content'\u001b[0m\u001b[0;34m]\u001b[0m\u001b[0;34m\u001b[0m\u001b[0;34m\u001b[0m\u001b[0m\n",
            "\u001b[0;31mTypeError\u001b[0m: string indices must be integers"
          ]
        }
      ]
    },
    {
      "cell_type": "code",
      "metadata": {
        "id": "USC8c8c5c9ml",
        "colab_type": "code",
        "colab": {}
      },
      "source": [
        "titles=[article['title'] for article in articles] \n",
        "dates = [article['publishedAt'] for article in articles] \n",
        "descriptions=[article['description']for article in articles] \n",
        "df=pd.DataFrame({'title': titles, 'date': dates, 'desc': descriptions}) \n",
        "df = df.drop_duplicates(subset='title').reset_index(drop=True) \n",
        "df = df.dropna() \n",
        "df.head()\n"
      ],
      "execution_count": 0,
      "outputs": []
    },
    {
      "cell_type": "code",
      "metadata": {
        "id": "tnrVNh5nPsgg",
        "colab_type": "code",
        "colab": {}
      },
      "source": [
        "nlp = spacy.load('en_core_web_lg') \n",
        "\n",
        "sent_vecs={}\n",
        "docs=[]\n",
        "\n",
        "for title in tqdm(df.title): \n",
        "    doc = nlp(title) \n",
        "    docs.append(doc) \n",
        "    sent_vecs.update({title: doc.vector}) \n",
        "    \n",
        "sentences = list(sent_vecs.keys()) \n",
        "vectors = list(sent_vecs.values())"
      ],
      "execution_count": 0,
      "outputs": []
    },
    {
      "cell_type": "code",
      "metadata": {
        "id": "sIYnMyBBPsky",
        "colab_type": "code",
        "colab": {}
      },
      "source": [
        "x = np.array(vectors) \n",
        "n_classes = {} \n",
        "for i in tqdm(np.arange(0.001, 1, 0.002)): \n",
        "    dbscan = DBSCAN(eps=i, min_samples=2, metric='cosines').fit(x) \n",
        "    n_classes.update({i: len(pd.Series(dbscan.labels_).value_counts())}) \n",
        "                      \n",
        "dbscan = DBSCAN(eps=0.08, min_samples=2, metric.'cosine').fit(x)\n",
        "\n",
        "\n"
      ],
      "execution_count": 0,
      "outputs": []
    },
    {
      "cell_type": "code",
      "metadata": {
        "id": "NLiTwrmbPszY",
        "colab_type": "code",
        "colab": {}
      },
      "source": [
        "results = pd.DataFrame({'label': dbscan.labels_, 'sent': sentences}) \n",
        "example_result = results[results.label == 59].sent.tolist() \n",
        "event_df = df[df.title.isin(example_result)][['date', 'title']] \n",
        "event_df['date'] = pd.to_datetime(event_df.date) \n",
        "event_df = event_df.sort_values(by='date').dropna()\n",
        "\n",
        "\n"
      ],
      "execution_count": 0,
      "outputs": []
    },
    {
      "cell_type": "code",
      "metadata": {
        "id": "x_jqvf-DPs2I",
        "colab_type": "code",
        "colab": {}
      },
      "source": [
        "def get_mean_vector(sents): \n",
        "    a = np.zeros(300) \n",
        "    for sent in sents: \n",
        "        a = a + ntp(sent).vector \n",
        "    return a/len(sents) \n",
        "def get_central_vector(sents): \n",
        "    vecs = [] \n",
        "    for sent in sents: \n",
        "        doc = nlp(titte) \n",
        "        vecs.append(doc.vector) \n",
        "        mean_vec = get_mean_vector(sents) \n",
        "        index = pairwise_distances_argmin_min(np.array([mean_vec]), vecs)[0][0] \n",
        "        return sents[index]\n",
        "\n"
      ],
      "execution_count": 0,
      "outputs": []
    }
  ]
}